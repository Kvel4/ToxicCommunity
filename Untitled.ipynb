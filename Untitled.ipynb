{
 "cells": [
  {
   "cell_type": "code",
   "execution_count": 158,
   "metadata": {},
   "outputs": [],
   "source": [
    "import telebot\n",
    "import downloader\n",
    "from sklearn.linear_model import LogisticRegression\n",
    "from sklearn.feature_extraction.text import TfidfVectorizer\n",
    "import pandas as pd\n",
    "from sklearn.utils import shuffle\n",
    "import re\n",
    "import numpy as np"
   ]
  },
  {
   "cell_type": "code",
   "execution_count": 159,
   "metadata": {},
   "outputs": [],
   "source": [
    "train = pd.read_csv(\"labeled.csv\")\n",
    "train = shuffle(train, random_state=45)\n",
    "\n"
   ]
  },
  {
   "cell_type": "code",
   "execution_count": 160,
   "metadata": {},
   "outputs": [],
   "source": [
    "\n",
    "comment_list = downloader.save_comment('4ch')"
   ]
  },
  {
   "cell_type": "code",
   "execution_count": 161,
   "metadata": {},
   "outputs": [],
   "source": [
    "saved = comment_list"
   ]
  },
  {
   "cell_type": "code",
   "execution_count": 162,
   "metadata": {},
   "outputs": [],
   "source": [
    "\n",
    "ans = train['toxic']\n",
    "train = train.drop([\"toxic\"], axis=1)"
   ]
  },
  {
   "cell_type": "code",
   "execution_count": 163,
   "metadata": {},
   "outputs": [],
   "source": [
    "\n",
    "comment_list = pd.DataFrame(comment_list)"
   ]
  },
  {
   "cell_type": "code",
   "execution_count": 164,
   "metadata": {
    "scrolled": true
   },
   "outputs": [],
   "source": [
    "\n",
    "idf_vectorizer = TfidfVectorizer()\n",
    "train = idf_vectorizer.fit_transform(train.values.reshape(-1))"
   ]
  },
  {
   "cell_type": "code",
   "execution_count": 165,
   "metadata": {},
   "outputs": [],
   "source": [
    "\n",
    "x_test = comment_list\n",
    "x_test =  idf_vectorizer.transform(x_test.values.reshape(-1))\n"
   ]
  },
  {
   "cell_type": "code",
   "execution_count": 166,
   "metadata": {},
   "outputs": [
    {
     "name": "stderr",
     "output_type": "stream",
     "text": [
      "C:\\Users\\mi\\Anaconda3\\lib\\site-packages\\sklearn\\linear_model\\logistic.py:432: FutureWarning: Default solver will be changed to 'lbfgs' in 0.22. Specify a solver to silence this warning.\n",
      "  FutureWarning)\n"
     ]
    }
   ],
   "source": [
    "\n",
    "lr = LogisticRegression().fit(train, ans)\n",
    "y_test = lr.predict_proba(x_test)\n"
   ]
  },
  {
   "cell_type": "code",
   "execution_count": 167,
   "metadata": {
    "scrolled": true
   },
   "outputs": [],
   "source": [
    "y_test = np.array([el[1] for el in y_test])"
   ]
  },
  {
   "cell_type": "code",
   "execution_count": 168,
   "metadata": {},
   "outputs": [
    {
     "data": {
      "text/plain": [
       "array([0.47620601, 0.43194485, 0.72910907, 0.76269884, 0.5388463 ,\n",
       "       0.47620601, 0.47620601, 0.53713906, 0.47620601, 0.48317121,\n",
       "       0.85892679, 0.47620601, 0.64509686, 0.55534126, 0.49409379,\n",
       "       0.49104739, 0.57680614, 0.60614391, 0.18413236, 0.52169046,\n",
       "       0.25559698, 0.426323  , 0.47620601, 0.47620601, 0.59757294,\n",
       "       0.46614175, 0.34625568, 0.47620601, 0.57871437, 0.50850784,\n",
       "       0.06042482, 0.47620601, 0.3672932 , 0.40432127, 0.70072852,\n",
       "       0.44008965, 0.60534478, 0.6950498 , 0.47620601, 0.36567619,\n",
       "       0.47994711, 0.44125619, 0.39843147, 0.51852648, 0.5305157 ,\n",
       "       0.82697029, 0.41015209, 0.4807703 , 0.47620601, 0.47620601,\n",
       "       0.65034532, 0.6302364 , 0.5312323 , 0.15543775, 0.47802248,\n",
       "       0.27359658, 0.18308676, 0.47620601, 0.47620601, 0.46670156,\n",
       "       0.47620601, 0.49552846, 0.40803038, 0.47620601, 0.47620601,\n",
       "       0.47620601, 0.47620601, 0.53082796, 0.40347837, 0.47620601,\n",
       "       0.4392922 , 0.46002229, 0.42786487, 0.23298587, 0.4196535 ,\n",
       "       0.53663592, 0.4926146 , 0.72166891, 0.47620601, 0.47620601,\n",
       "       0.5514891 , 0.47620601, 0.38750311, 0.47620601, 0.42529274,\n",
       "       0.36341102, 0.47620601, 0.52427946, 0.42912491, 0.48904572,\n",
       "       0.2419094 , 0.67082859, 0.3824289 , 0.47620601, 0.12331201,\n",
       "       0.52427946, 0.43723504])"
      ]
     },
     "execution_count": 168,
     "metadata": {},
     "output_type": "execute_result"
    }
   ],
   "source": [
    "y_test"
   ]
  },
  {
   "cell_type": "code",
   "execution_count": 171,
   "metadata": {},
   "outputs": [],
   "source": [
    "\n",
    "rating = y_test.argsort()[::-1]"
   ]
  },
  {
   "cell_type": "code",
   "execution_count": 172,
   "metadata": {},
   "outputs": [
    {
     "data": {
      "text/plain": [
       "array([10, 45,  3,  2, 77, 34, 37, 91, 50, 12, 51, 17, 36, 24, 28, 16, 13,\n",
       "       80,  4,  7, 75, 52, 67, 44, 87, 95, 19, 43, 29, 61, 14, 76, 15, 89,\n",
       "        9, 47, 40, 54, 31, 27, 38, 23, 22, 11,  8,  6,  5, 48,  0, 49, 63,\n",
       "       93, 86, 83, 81, 79, 78, 66, 65, 64, 69, 57, 60, 58, 59, 25, 71, 41,\n",
       "       35, 70, 96,  1, 88, 72, 21, 84, 74, 46, 62, 33, 68, 42, 82, 92, 32,\n",
       "       39, 85, 26, 55, 20, 90, 73, 18, 56, 53, 94, 30], dtype=int64)"
      ]
     },
     "execution_count": 172,
     "metadata": {},
     "output_type": "execute_result"
    }
   ],
   "source": [
    "rating"
   ]
  },
  {
   "cell_type": "code",
   "execution_count": 173,
   "metadata": {},
   "outputs": [
    {
     "name": "stdout",
     "output_type": "stream",
     "text": [
      "да пошли нахуй\n",
      "Почему мафия и наркобароны не убивают русских реперов?\n",
      "я ебал маму дреда\n",
      "Несчастным или счастливым человека делают только его мысли, а не внешние обстоятельства. Управляя своими мыслями, он управляет своим счастьем.\n",
      "почему он такой секс я бы вдул\n",
      "мой батя\n",
      "ХУЙНЯ ТРЕК\n",
      "Вы испугали деда!\n",
      "а они ждут пока одмен петух выйдет, чтобы плюнуть в ебало\n",
      "Пиздец \n",
      "Вот до чего доводят эти ваши шуточки в интернете\n"
     ]
    }
   ],
   "source": [
    "\n",
    "for el in rating[:10]:\n",
    "    print(saved[el])"
   ]
  },
  {
   "cell_type": "code",
   "execution_count": null,
   "metadata": {},
   "outputs": [],
   "source": [
    "\n",
    "\n",
    "y_test = np.array([el[1] for el in y_test])\n",
    "rating = y_test.argsort()[::-1]\n",
    "for el in rating[:10]:\n",
    "    print(saved[el])\n",
    "sum(y_test) / len(y_test)\n"
   ]
  },
  {
   "cell_type": "code",
   "execution_count": null,
   "metadata": {},
   "outputs": [],
   "source": []
  },
  {
   "cell_type": "code",
   "execution_count": null,
   "metadata": {},
   "outputs": [],
   "source": []
  }
 ],
 "metadata": {
  "kernelspec": {
   "display_name": "Python 3",
   "language": "python",
   "name": "python3"
  },
  "language_info": {
   "codemirror_mode": {
    "name": "ipython",
    "version": 3
   },
   "file_extension": ".py",
   "mimetype": "text/x-python",
   "name": "python",
   "nbconvert_exporter": "python",
   "pygments_lexer": "ipython3",
   "version": "3.7.3"
  }
 },
 "nbformat": 4,
 "nbformat_minor": 2
}
